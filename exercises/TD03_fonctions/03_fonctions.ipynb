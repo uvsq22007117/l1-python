{
 "cells": [
  {
   "cell_type": "markdown",
   "metadata": {},
   "source": [
    "# Instructions Générales\n",
    "\n",
    "Ce TD est à faire en créant un fichier td3.py, que vous éditerez dans VSCode. \n",
    "Vous ne remplirez pas les cellules de ce notebook, mais vous les copierez au fur et à mesure \n",
    "dans votre fichier pour les compléter.\n",
    "\n",
    "Vous respecterez au mieux les règles d'écriture de code, en particulier chaque fonction devra avoir un **docstring** et des commentaires si nécessaire et les noms de variable seront illustratifs de leur usage. Vous utiliserez les outils de débogage (flake8, mypy, debugger, pythontutor ...) pour corriger vos bogues."
   ]
  },
  {
   "cell_type": "markdown",
   "metadata": {},
   "source": [
    "# Gestion du temps\n",
    "\n",
    "Nous allons créer un petit logiciel de gestion du temps et des dates.\n",
    "Pour cela nous aurons besoin de créer un certain nombre de fonctions utilitaires.\n",
    "\n",
    "Un temps a le format suivant: (jour: int, heure: int, minute: int, seconde: int).\n",
    "C'est un tuple de 4 éléments. Par exemple (4, 3, 13, 20) correspond à 4 jours, 3 heures, 13 minutes et 20 secondes.\n",
    "Si on a une variable temps = (4, 3, 13, 20), pour accéder au premier élément on fait temps\\[0\\] ce qui donne 4,\n",
    "le nombre de jours.\n",
    "\n",
    "Créer la fonction qui prend comme argument le temps et renvoie le nombre de seconde total correspondant à ce temps.\n",
    "Créer la fonction qui prend un nombre de secondes et renvoie le temps correspondant."
   ]
  },
  {
   "cell_type": "code",
   "execution_count": 18,
   "metadata": {},
   "outputs": [
    {
     "output_type": "stream",
     "name": "stdout",
     "text": [
      "<class 'tuple'>\n342094\n1 jours 3 heures 46 minutes 40 secondes\n"
     ]
    }
   ],
   "source": [
    "#temps[0] : jours, temps[1]: minutes, temps[2]: minutes, temps[3]: secondes\n",
    "\n",
    "def tempsEnSeconde(temps):\n",
    "    return (temps[0]*86400) + (temps[1]*3600) + (temps[2]*60) + temps[3]\n",
    "\n",
    "temps = (3,23,1,34)\n",
    "print(type(temps))\n",
    "print(tempsEnSeconde(temps))   \n",
    "\n",
    "def secondeEnTemps(seconde):\n",
    "    return (seconde//86400,(seconde%86400)//3600,((seconde%86400)%3600)//60,((seconde%86400)%3600)%60)\n",
    "\n",
    "temps = secondeEnTemps(100000)\n",
    "print(temps[0],\"jours\",temps[1],\"heures\",temps[2],\"minutes\",temps[3],\"secondes\")"
   ]
  },
  {
   "cell_type": "markdown",
   "metadata": {},
   "source": [
    "Créer une fonction d'affichage d'un temps `afficheTemps`. Attention, les mots jour, heure et seconde doivent être au pluriel s'il y en a plusieurs. S'il y en a zéro, ils ne doivent pas apparaître.\n",
    "`print(message, end=\"\")` permet de ne pas sauter une ligne après un print. \n",
    "Vous pouvez écrire une fonction qui affiche un mot au pluriel ou non, appelée ensuite plusieurs fois par `afficheTemps` pour simplifier votre code.\n"
   ]
  },
  {
   "cell_type": "code",
   "execution_count": 28,
   "metadata": {},
   "outputs": [
    {
     "output_type": "execute_result",
     "data": {
      "text/plain": [
       "'1 jour  14 minutes 23 secondes'"
      ]
     },
     "metadata": {},
     "execution_count": 28
    }
   ],
   "source": [
    "#fonction auxiliaire ici\n",
    "\n",
    "def afficheTemps(temps):\n",
    "    pluriel=\"s\"\n",
    "    temp=[str(temps[0]), str(temps[1]), str(temps[2]), str(temps[3])]\n",
    "    time=[\" jour\", \" heure\", \" minute\", \" seconde\"]\n",
    "    for k in range(len(time)):\n",
    "        if temps[k]== 0:\n",
    "            temp[k]= \"\"    #on efface la liste\n",
    "            time[k]= \"\"\n",
    "        elif temps[k]>1:\n",
    "           time[k]= time[k]+ pluriel\n",
    "        \n",
    "\n",
    "    return (temp[0] + time[0] + \" \" +  temp[1] + time[1] + \" \" +  temp[2] + time[2] + \" \" +  temp[3]+ time[3])\n",
    "    \n",
    "    \n",
    "afficheTemps((1,0,14,23))    "
   ]
  },
  {
   "cell_type": "markdown",
   "metadata": {},
   "source": [
    "Ecrire une fonction qui demande à l'utilisateur de rentrer un nombre de jours, d'heures, de minutes et\n",
    "de secondes et qui renvoie un temps. Attention, si l'entrée utilisateur n'est pas correcte, par exemple 80 minutes,\n",
    "afficher un message d'erreur et s'arrêter.\n",
    "\n",
    "(Optionnel) Au lieu d'arêter le programme, demander de rentrer une nouvelle valeur, tant que \n",
    "ce n'est pas une valeur correcte."
   ]
  },
  {
   "cell_type": "code",
   "execution_count": 46,
   "metadata": {},
   "outputs": [
    {
     "output_type": "stream",
     "name": "stdout",
     "text": [
      "erreur\n"
     ]
    },
    {
     "output_type": "execute_result",
     "data": {
      "text/plain": [
       "'344 jours 12 heures 12 minutes 12 secondes'"
      ]
     },
     "metadata": {},
     "execution_count": 46
    }
   ],
   "source": [
    "def erreur(t, l):\n",
    "    while t > l:\n",
    "        print(\"erreur\")\n",
    "        t=int(input(\"recommence\"))\n",
    "    return(t)\n",
    "\n",
    "\n",
    "\n",
    "def demandeTemps():\n",
    "    jour= int(input(\"donne un jour\"))\n",
    "    jour=erreur(jour,365)\n",
    "\n",
    "    heure= int(input(\"donne une heure\"))\n",
    "    heure=erreur(heure,24)\n",
    "\n",
    "    minute= int(input(\"donne minutes\"))\n",
    "    minute=erreur(minute,60)\n",
    "    \n",
    "    seconde= int(input(\"donne secondes\"))\n",
    "    seconde=erreur(seconde,60)\n",
    "\n",
    "    return (jour, heure, minute, seconde)\n",
    "\n",
    "\n",
    "\n",
    "afficheTemps(demandeTemps())"
   ]
  },
  {
   "cell_type": "markdown",
   "metadata": {},
   "source": [
    "On veut être capable d'additionner deux temps. Donner une fonction qui fait ce calcul,\n",
    "en utilisant les fonctions précédentes."
   ]
  },
  {
   "cell_type": "code",
   "execution_count": 56,
   "metadata": {},
   "outputs": [
    {
     "output_type": "execute_result",
     "data": {
      "text/plain": [
       "(8, 2, 1, 26)"
      ]
     },
     "metadata": {},
     "execution_count": 56
    }
   ],
   "source": [
    "def sommeTemps(temps1,temps2):\n",
    "\n",
    "    l=[60,60,24,365]\n",
    "    temps3=[0,0,0,0]\n",
    "    n=len(temps1)-1\n",
    "    for k in range(n+1):\n",
    "        if temps1[n-k] + temps2[n-k] + temps3[n-k] < l[k]:\n",
    "            temps3[n-k] += temps1[n-k] + temps2[n-k]\n",
    "        else:\n",
    "            temps3[n-(k+1)] += 1\n",
    "            temps3[n-k] = (temps1[n-k] + temps2[n-k] + temps3[n-k])%l[k]\n",
    "\n",
    "    return (temps3[0],temps3[1],temps3[2],temps3[3])\n",
    "\n",
    "sommeTemps((2,3,4,25),(5,22,57,1))"
   ]
  },
  {
   "cell_type": "markdown",
   "metadata": {},
   "source": [
    "On veut maintenant calculer un pourcentage d'un temps. Par exemple, 20% de\n",
    "2 jours et 36 minutes correspond à 9 heures, 43 minutes et 12 secondes.\n",
    "\n",
    "Implémenter la fonction `proportionTemps` puis appeler cette fonction en échangeant l'ordre des arguments mais en les nommant."
   ]
  },
  {
   "cell_type": "code",
   "execution_count": 51,
   "metadata": {},
   "outputs": [
    {
     "output_type": "execute_result",
     "data": {
      "text/plain": [
       "' 9.0 heures 43.0 minutes 12.0 secondes'"
      ]
     },
     "metadata": {},
     "execution_count": 51
    }
   ],
   "source": [
    "def proportionTemps(temps,proportion):\n",
    "    tps=tempsEnSeconde(temps)\n",
    "    tps=tps*proportion\n",
    "    tps=secondeEnTemps(tps)\n",
    "\n",
    "    return(tps)\n",
    "\n",
    "afficheTemps(proportionTemps((2,0,36,0),0.2))\n",
    "#appeler la fonction en échangeant l'ordre des arguments"
   ]
  },
  {
   "cell_type": "markdown",
   "metadata": {},
   "source": [
    "On veut maintenant afficher un temps sous forme de date, en supposant \n",
    "que le temps 0 est le 1 janvier 1970 à 00:00:00.\n",
    "\n",
    "* Implémenter une fonction `tempsEnDate`qui donne la date sous la forme (année, jour, heure, minute, seconde).\n",
    "* Implémenter la fonction `afficheDate`qui affiche la date. \n",
    "* (Optionnel) Gérer également les mois."
   ]
  },
  {
   "cell_type": "code",
   "execution_count": null,
   "metadata": {},
   "outputs": [],
   "source": [
    "def tempsEnDate(temps):\n",
    "    \n",
    "\n",
    "def afficheDate(date = -1):\n",
    "    pass\n",
    "    \n",
    "temps = secondeEnTemps(1000000000)\n",
    "afficheTemps(temps)\n",
    "afficheDate(tempsEnDate(temps))\n",
    "afficheDate()"
   ]
  },
  {
   "cell_type": "markdown",
   "metadata": {},
   "source": [
    "Il existe des fonctions dans la librairie `time` pour la gestion du temps. En particulier, il existe\n",
    "une fonction `time` qui donne le temps écoulé depuis 1970 en secondes. \n",
    "La trouver avec la [documentation python](https://docs.python.org/fr/3/library/time.html#module-time) et la tester en utilisant `afficheDate`. \n",
    "Tester de la même manière la fonction `time.gmtime` qui réalise une tâche similaire à `tempsEnDate`.\n",
    "Que constatez vous ?"
   ]
  },
  {
   "cell_type": "code",
   "execution_count": null,
   "metadata": {},
   "outputs": [],
   "source": [
    "#tester ici les fonctions de la librairie time"
   ]
  },
  {
   "cell_type": "markdown",
   "metadata": {},
   "source": [
    "Attention, tous les 4 ans les années sont bisextiles (un jour de plus) sauf les multiples de 100 qui ne sont pas des multiples de 400.\n",
    "Donner un code qui prend un nombre de jours et affiche toutes les années bisextiles depuis 1 janvier 2020 à 00:00:00 jusqu'à la fin de ces jours."
   ]
  },
  {
   "cell_type": "code",
   "execution_count": 58,
   "metadata": {},
   "outputs": [
    {
     "output_type": "execute_result",
     "data": {
      "text/plain": [
       "[2020,\n",
       " 2024,\n",
       " 2028,\n",
       " 2032,\n",
       " 2036,\n",
       " 2040,\n",
       " 2044,\n",
       " 2048,\n",
       " 2052,\n",
       " 2056,\n",
       " 2060,\n",
       " 2064,\n",
       " 2068,\n",
       " 2072,\n",
       " 2076,\n",
       " 2080,\n",
       " 2084,\n",
       " 2088,\n",
       " 2092,\n",
       " 2096,\n",
       " 2100,\n",
       " 2104,\n",
       " 2108,\n",
       " 2112,\n",
       " 2116,\n",
       " 2120,\n",
       " 2124,\n",
       " 2128,\n",
       " 2132,\n",
       " 2136,\n",
       " 2140,\n",
       " 2144,\n",
       " 2148,\n",
       " 2152,\n",
       " 2156,\n",
       " 2160,\n",
       " 2164,\n",
       " 2168,\n",
       " 2172,\n",
       " 2176,\n",
       " 2180,\n",
       " 2184,\n",
       " 2188,\n",
       " 2192,\n",
       " 2196,\n",
       " 2200,\n",
       " 2204,\n",
       " 2208,\n",
       " 2212,\n",
       " 2216,\n",
       " 2220,\n",
       " 2224,\n",
       " 2228,\n",
       " 2232,\n",
       " 2236]"
      ]
     },
     "metadata": {},
     "execution_count": 58
    }
   ],
   "source": [
    "def bisextile(jour):\n",
    "    if (jour%365)!=0:\n",
    "        annee=jour//365 +1\n",
    "    else:\n",
    "        annee=jour//365\n",
    "    l=[2020]\n",
    "    for k in range(1,annee):\n",
    "        l.append(l[k-1]+4)\n",
    "    return(l)\n",
    "bisextile(20000)"
   ]
  },
  {
   "cell_type": "markdown",
   "metadata": {},
   "source": [
    "Implémenter une fonction `nombreBisextile` qui calcule le nombre d'années bisextiles pour un nombre de jour donnés pour corriger votre fonction de calcul de la date."
   ]
  },
  {
   "cell_type": "code",
   "execution_count": null,
   "metadata": {},
   "outputs": [],
   "source": [
    "def nombreBisextile(jour):\n",
    "    return(len(bisextile(jour)))\n",
    "\n",
    "def tempsEnDateBisextile(temps):\n",
    "    pass\n",
    "   \n",
    "temps = secondeEnTemps(1000000000)\n",
    "afficheTemps(temps)\n",
    "afficheDate(tempsEnDateBisextile(temps))"
   ]
  },
  {
   "cell_type": "markdown",
   "metadata": {},
   "source": [
    "Ajouter des valeurs par défaut dans le code de `afficheDate` afin de pouvoir ommettre\n",
    "l'argument de ces fonctions. Dans ce cas là, on affichera la date actuelle en utilisant la fonction `time`."
   ]
  },
  {
   "cell_type": "markdown",
   "metadata": {},
   "source": [
    "On va maintenant inspecter notre code pour améliorer sa qualité:\n",
    "\n",
    "* Regarder tous les warnings donnés par flake8 et essayer de les régler.\n",
    "* Utiliser le debugger (F5) pour étudier le fonctionnement de votre fonction nombreBisextile.\n",
    "* Mettre les annotations de type des arguments et du retour de la fonction pour nombreBisextile et une autre fonction de votre choix. Vérifier avec mypy que tout fonctionne bien."
   ]
  },
  {
   "cell_type": "markdown",
   "metadata": {},
   "source": [
    "Donner une fonction qui vérifie la charge horaire d'un employé, donnée sous forme d'une liste de temps travaillé chaque semaine dans un mois. Il ne faut pas dépasser 48h par semaine et 140h par mois (qu'on considère ici de 4 semaines).\n",
    "\n",
    "(Optionnel) S'adapter à une liste qui peut contenir plusieurs mois."
   ]
  },
  {
   "cell_type": "code",
   "execution_count": 61,
   "metadata": {},
   "outputs": [
    {
     "output_type": "stream",
     "name": "stdout",
     "text": [
      "temps de trop cette semaine!\ntemps de trop cette semaine!\ntemps de trop cette semaine!\nbah cv po de bosser autant en un mois?! \n"
     ]
    }
   ],
   "source": [
    "def verifie(liste_temps):\n",
    "    p=[]\n",
    "    for k in range (len(liste_temps)):\n",
    "        p.append(sum(liste_temps[k]))\n",
    "        if p[k] >48:\n",
    "            print(\"temps de trop cette semaine!\")\n",
    "    if sum(p)>140:\n",
    "        print(\"bah cv po de bosser autant en un mois?! \")\n",
    "    pass\n",
    "\n",
    "liste_temps = [[1,2,39,34],[0,1,9,4],[0,29,39,51],[0,31,13,46]]\n",
    "verifie(liste_temps)"
   ]
  },
  {
   "cell_type": "code",
   "execution_count": null,
   "metadata": {},
   "outputs": [],
   "source": []
  },
  {
   "cell_type": "code",
   "execution_count": null,
   "metadata": {},
   "outputs": [],
   "source": []
  }
 ],
 "metadata": {
  "kernelspec": {
   "display_name": "Python 3",
   "language": "python",
   "name": "python3"
  },
  "language_info": {
   "codemirror_mode": {
    "name": "ipython",
    "version": 3
   },
   "file_extension": ".py",
   "mimetype": "text/x-python",
   "name": "python",
   "nbconvert_exporter": "python",
   "pygments_lexer": "ipython3",
   "version": "3.8.5-final"
  }
 },
 "nbformat": 4,
 "nbformat_minor": 4
}